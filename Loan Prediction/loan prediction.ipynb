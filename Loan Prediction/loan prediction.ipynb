{
 "cells": [
  {
   "cell_type": "code",
   "execution_count": 39,
   "metadata": {},
   "outputs": [],
   "source": [
    "import numpy as np \n",
    "import pandas as pd\n",
    "import seaborn as sns\n",
    "import matplotlib.pyplot as plt\n",
    "from sklearn.preprocessing import LabelEncoder,StandardScaler\n",
    "from sklearn.tree import DecisionTreeClassifier\n",
    "from sklearn.ensemble import RandomForestClassifier"
   ]
  },
  {
   "cell_type": "code",
   "execution_count": 40,
   "metadata": {},
   "outputs": [],
   "source": [
    "train = pd.read_csv(\"C://Users//Rachit//Desktop//great learning - data science engineering//machine learning//competition//loan prediction//train.csv\")\n",
    "test = pd.read_csv(\"C://Users//Rachit//Desktop//great learning - data science engineering//machine learning//competition//loan prediction//test.csv\")"
   ]
  },
  {
   "cell_type": "code",
   "execution_count": 41,
   "metadata": {},
   "outputs": [
    {
     "data": {
      "text/html": [
       "<div>\n",
       "<style scoped>\n",
       "    .dataframe tbody tr th:only-of-type {\n",
       "        vertical-align: middle;\n",
       "    }\n",
       "\n",
       "    .dataframe tbody tr th {\n",
       "        vertical-align: top;\n",
       "    }\n",
       "\n",
       "    .dataframe thead th {\n",
       "        text-align: right;\n",
       "    }\n",
       "</style>\n",
       "<table border=\"1\" class=\"dataframe\">\n",
       "  <thead>\n",
       "    <tr style=\"text-align: right;\">\n",
       "      <th></th>\n",
       "      <th>Loan_ID</th>\n",
       "      <th>Gender</th>\n",
       "      <th>Married</th>\n",
       "      <th>Dependents</th>\n",
       "      <th>Education</th>\n",
       "      <th>Self_Employed</th>\n",
       "      <th>ApplicantIncome</th>\n",
       "      <th>CoapplicantIncome</th>\n",
       "      <th>LoanAmount</th>\n",
       "      <th>Loan_Amount_Term</th>\n",
       "      <th>Credit_History</th>\n",
       "      <th>Property_Area</th>\n",
       "      <th>Loan_Status</th>\n",
       "    </tr>\n",
       "  </thead>\n",
       "  <tbody>\n",
       "    <tr>\n",
       "      <th>0</th>\n",
       "      <td>LP001002</td>\n",
       "      <td>Male</td>\n",
       "      <td>No</td>\n",
       "      <td>0</td>\n",
       "      <td>Graduate</td>\n",
       "      <td>No</td>\n",
       "      <td>5849</td>\n",
       "      <td>0.0</td>\n",
       "      <td>NaN</td>\n",
       "      <td>360.0</td>\n",
       "      <td>1.0</td>\n",
       "      <td>Urban</td>\n",
       "      <td>Y</td>\n",
       "    </tr>\n",
       "    <tr>\n",
       "      <th>1</th>\n",
       "      <td>LP001003</td>\n",
       "      <td>Male</td>\n",
       "      <td>Yes</td>\n",
       "      <td>1</td>\n",
       "      <td>Graduate</td>\n",
       "      <td>No</td>\n",
       "      <td>4583</td>\n",
       "      <td>1508.0</td>\n",
       "      <td>128.0</td>\n",
       "      <td>360.0</td>\n",
       "      <td>1.0</td>\n",
       "      <td>Rural</td>\n",
       "      <td>N</td>\n",
       "    </tr>\n",
       "    <tr>\n",
       "      <th>2</th>\n",
       "      <td>LP001005</td>\n",
       "      <td>Male</td>\n",
       "      <td>Yes</td>\n",
       "      <td>0</td>\n",
       "      <td>Graduate</td>\n",
       "      <td>Yes</td>\n",
       "      <td>3000</td>\n",
       "      <td>0.0</td>\n",
       "      <td>66.0</td>\n",
       "      <td>360.0</td>\n",
       "      <td>1.0</td>\n",
       "      <td>Urban</td>\n",
       "      <td>Y</td>\n",
       "    </tr>\n",
       "    <tr>\n",
       "      <th>3</th>\n",
       "      <td>LP001006</td>\n",
       "      <td>Male</td>\n",
       "      <td>Yes</td>\n",
       "      <td>0</td>\n",
       "      <td>Not Graduate</td>\n",
       "      <td>No</td>\n",
       "      <td>2583</td>\n",
       "      <td>2358.0</td>\n",
       "      <td>120.0</td>\n",
       "      <td>360.0</td>\n",
       "      <td>1.0</td>\n",
       "      <td>Urban</td>\n",
       "      <td>Y</td>\n",
       "    </tr>\n",
       "    <tr>\n",
       "      <th>4</th>\n",
       "      <td>LP001008</td>\n",
       "      <td>Male</td>\n",
       "      <td>No</td>\n",
       "      <td>0</td>\n",
       "      <td>Graduate</td>\n",
       "      <td>No</td>\n",
       "      <td>6000</td>\n",
       "      <td>0.0</td>\n",
       "      <td>141.0</td>\n",
       "      <td>360.0</td>\n",
       "      <td>1.0</td>\n",
       "      <td>Urban</td>\n",
       "      <td>Y</td>\n",
       "    </tr>\n",
       "  </tbody>\n",
       "</table>\n",
       "</div>"
      ],
      "text/plain": [
       "    Loan_ID Gender Married Dependents     Education Self_Employed  \\\n",
       "0  LP001002   Male      No          0      Graduate            No   \n",
       "1  LP001003   Male     Yes          1      Graduate            No   \n",
       "2  LP001005   Male     Yes          0      Graduate           Yes   \n",
       "3  LP001006   Male     Yes          0  Not Graduate            No   \n",
       "4  LP001008   Male      No          0      Graduate            No   \n",
       "\n",
       "   ApplicantIncome  CoapplicantIncome  LoanAmount  Loan_Amount_Term  \\\n",
       "0             5849                0.0         NaN             360.0   \n",
       "1             4583             1508.0       128.0             360.0   \n",
       "2             3000                0.0        66.0             360.0   \n",
       "3             2583             2358.0       120.0             360.0   \n",
       "4             6000                0.0       141.0             360.0   \n",
       "\n",
       "   Credit_History Property_Area Loan_Status  \n",
       "0             1.0         Urban           Y  \n",
       "1             1.0         Rural           N  \n",
       "2             1.0         Urban           Y  \n",
       "3             1.0         Urban           Y  \n",
       "4             1.0         Urban           Y  "
      ]
     },
     "execution_count": 41,
     "metadata": {},
     "output_type": "execute_result"
    }
   ],
   "source": [
    "train.head()"
   ]
  },
  {
   "cell_type": "code",
   "execution_count": 42,
   "metadata": {},
   "outputs": [
    {
     "name": "stdout",
     "output_type": "stream",
     "text": [
      "<class 'pandas.core.frame.DataFrame'>\n",
      "RangeIndex: 614 entries, 0 to 613\n",
      "Data columns (total 13 columns):\n",
      "Loan_ID              614 non-null object\n",
      "Gender               601 non-null object\n",
      "Married              611 non-null object\n",
      "Dependents           599 non-null object\n",
      "Education            614 non-null object\n",
      "Self_Employed        582 non-null object\n",
      "ApplicantIncome      614 non-null int64\n",
      "CoapplicantIncome    614 non-null float64\n",
      "LoanAmount           592 non-null float64\n",
      "Loan_Amount_Term     600 non-null float64\n",
      "Credit_History       564 non-null float64\n",
      "Property_Area        614 non-null object\n",
      "Loan_Status          614 non-null object\n",
      "dtypes: float64(4), int64(1), object(8)\n",
      "memory usage: 62.4+ KB\n"
     ]
    }
   ],
   "source": [
    "train.info()"
   ]
  },
  {
   "cell_type": "code",
   "execution_count": 46,
   "metadata": {},
   "outputs": [
    {
     "data": {
      "text/plain": [
       "Loan_ID              0\n",
       "Gender               0\n",
       "Married              0\n",
       "Dependents           0\n",
       "Education            0\n",
       "Self_Employed        0\n",
       "ApplicantIncome      0\n",
       "CoapplicantIncome    0\n",
       "LoanAmount           0\n",
       "Loan_Amount_Term     0\n",
       "Credit_History       0\n",
       "Property_Area        0\n",
       "Loan_Status          0\n",
       "dtype: int64"
      ]
     },
     "execution_count": 46,
     "metadata": {},
     "output_type": "execute_result"
    }
   ],
   "source": [
    "train.isnull().sum()"
   ]
  },
  {
   "cell_type": "code",
   "execution_count": 47,
   "metadata": {},
   "outputs": [
    {
     "data": {
      "text/plain": [
       "Loan_ID              0\n",
       "Gender               0\n",
       "Married              0\n",
       "Dependents           0\n",
       "Education            0\n",
       "Self_Employed        0\n",
       "ApplicantIncome      0\n",
       "CoapplicantIncome    0\n",
       "LoanAmount           0\n",
       "Loan_Amount_Term     0\n",
       "Credit_History       0\n",
       "Property_Area        0\n",
       "dtype: int64"
      ]
     },
     "execution_count": 47,
     "metadata": {},
     "output_type": "execute_result"
    }
   ],
   "source": [
    "test.isnull().sum()"
   ]
  },
  {
   "cell_type": "code",
   "execution_count": 7,
   "metadata": {},
   "outputs": [
    {
     "data": {
      "text/plain": [
       "array(['No', 'Yes', nan], dtype=object)"
      ]
     },
     "execution_count": 7,
     "metadata": {},
     "output_type": "execute_result"
    }
   ],
   "source": [
    "train.Married.unique()"
   ]
  },
  {
   "cell_type": "code",
   "execution_count": 8,
   "metadata": {},
   "outputs": [
    {
     "data": {
      "text/plain": [
       "Yes    398\n",
       "No     213\n",
       "Name: Married, dtype: int64"
      ]
     },
     "execution_count": 8,
     "metadata": {},
     "output_type": "execute_result"
    }
   ],
   "source": [
    "train.Married.value_counts()"
   ]
  },
  {
   "cell_type": "code",
   "execution_count": 9,
   "metadata": {},
   "outputs": [
    {
     "data": {
      "text/plain": [
       "0     345\n",
       "1     102\n",
       "2     101\n",
       "3+     51\n",
       "Name: Dependents, dtype: int64"
      ]
     },
     "execution_count": 9,
     "metadata": {},
     "output_type": "execute_result"
    }
   ],
   "source": [
    "train.Dependents.value_counts()"
   ]
  },
  {
   "cell_type": "code",
   "execution_count": 10,
   "metadata": {},
   "outputs": [
    {
     "data": {
      "text/plain": [
       "count     599\n",
       "unique      4\n",
       "top         0\n",
       "freq      345\n",
       "Name: Dependents, dtype: object"
      ]
     },
     "execution_count": 10,
     "metadata": {},
     "output_type": "execute_result"
    }
   ],
   "source": [
    "train.Dependents.describe()"
   ]
  },
  {
   "cell_type": "code",
   "execution_count": 11,
   "metadata": {},
   "outputs": [
    {
     "data": {
      "text/plain": [
       "No     500\n",
       "Yes     82\n",
       "Name: Self_Employed, dtype: int64"
      ]
     },
     "execution_count": 11,
     "metadata": {},
     "output_type": "execute_result"
    }
   ],
   "source": [
    "train.Self_Employed.value_counts()"
   ]
  },
  {
   "cell_type": "code",
   "execution_count": 12,
   "metadata": {},
   "outputs": [
    {
     "data": {
      "text/plain": [
       "Male      489\n",
       "Female    112\n",
       "Name: Gender, dtype: int64"
      ]
     },
     "execution_count": 12,
     "metadata": {},
     "output_type": "execute_result"
    }
   ],
   "source": [
    "train.Gender.value_counts()"
   ]
  },
  {
   "cell_type": "code",
   "execution_count": 13,
   "metadata": {},
   "outputs": [
    {
     "data": {
      "text/plain": [
       "120.0    20\n",
       "110.0    17\n",
       "100.0    15\n",
       "187.0    12\n",
       "160.0    12\n",
       "128.0    11\n",
       "113.0    11\n",
       "130.0    10\n",
       "96.0      9\n",
       "95.0      9\n",
       "70.0      8\n",
       "115.0     8\n",
       "112.0     8\n",
       "150.0     7\n",
       "135.0     7\n",
       "136.0     7\n",
       "132.0     7\n",
       "125.0     7\n",
       "104.0     7\n",
       "80.0      6\n",
       "81.0      6\n",
       "138.0     6\n",
       "90.0      6\n",
       "158.0     6\n",
       "116.0     6\n",
       "175.0     6\n",
       "144.0     6\n",
       "155.0     6\n",
       "180.0     6\n",
       "152.0     5\n",
       "         ..\n",
       "315.0     1\n",
       "101.0     1\n",
       "73.0      1\n",
       "142.0     1\n",
       "48.0      1\n",
       "164.0     1\n",
       "83.0      1\n",
       "191.0     1\n",
       "166.0     1\n",
       "495.0     1\n",
       "59.0      1\n",
       "214.0     1\n",
       "240.0     1\n",
       "72.0      1\n",
       "42.0      1\n",
       "349.0     1\n",
       "280.0     1\n",
       "405.0     1\n",
       "279.0     1\n",
       "304.0     1\n",
       "650.0     1\n",
       "436.0     1\n",
       "78.0      1\n",
       "54.0      1\n",
       "89.0      1\n",
       "570.0     1\n",
       "300.0     1\n",
       "376.0     1\n",
       "117.0     1\n",
       "311.0     1\n",
       "Name: LoanAmount, Length: 203, dtype: int64"
      ]
     },
     "execution_count": 13,
     "metadata": {},
     "output_type": "execute_result"
    }
   ],
   "source": [
    "train.LoanAmount.value_counts()"
   ]
  },
  {
   "cell_type": "code",
   "execution_count": 14,
   "metadata": {},
   "outputs": [
    {
     "data": {
      "text/plain": [
       "count    592.000000\n",
       "mean     146.412162\n",
       "std       85.587325\n",
       "min        9.000000\n",
       "25%      100.000000\n",
       "50%      128.000000\n",
       "75%      168.000000\n",
       "max      700.000000\n",
       "Name: LoanAmount, dtype: float64"
      ]
     },
     "execution_count": 14,
     "metadata": {},
     "output_type": "execute_result"
    }
   ],
   "source": [
    "train.LoanAmount.describe()"
   ]
  },
  {
   "cell_type": "code",
   "execution_count": 15,
   "metadata": {},
   "outputs": [
    {
     "data": {
      "text/plain": [
       "360.0    512\n",
       "180.0     44\n",
       "480.0     15\n",
       "300.0     13\n",
       "84.0       4\n",
       "240.0      4\n",
       "120.0      3\n",
       "36.0       2\n",
       "60.0       2\n",
       "12.0       1\n",
       "Name: Loan_Amount_Term, dtype: int64"
      ]
     },
     "execution_count": 15,
     "metadata": {},
     "output_type": "execute_result"
    }
   ],
   "source": [
    "train.Loan_Amount_Term.value_counts()"
   ]
  },
  {
   "cell_type": "code",
   "execution_count": 16,
   "metadata": {},
   "outputs": [
    {
     "data": {
      "text/plain": [
       "count    600.00000\n",
       "mean     342.00000\n",
       "std       65.12041\n",
       "min       12.00000\n",
       "25%      360.00000\n",
       "50%      360.00000\n",
       "75%      360.00000\n",
       "max      480.00000\n",
       "Name: Loan_Amount_Term, dtype: float64"
      ]
     },
     "execution_count": 16,
     "metadata": {},
     "output_type": "execute_result"
    }
   ],
   "source": [
    "train.Loan_Amount_Term.describe()"
   ]
  },
  {
   "cell_type": "code",
   "execution_count": 17,
   "metadata": {},
   "outputs": [
    {
     "data": {
      "text/plain": [
       "1.0    475\n",
       "0.0     89\n",
       "Name: Credit_History, dtype: int64"
      ]
     },
     "execution_count": 17,
     "metadata": {},
     "output_type": "execute_result"
    }
   ],
   "source": [
    "train.Credit_History.value_counts()"
   ]
  },
  {
   "cell_type": "code",
   "execution_count": 18,
   "metadata": {},
   "outputs": [
    {
     "data": {
      "text/plain": [
       "count    564.000000\n",
       "mean       0.842199\n",
       "std        0.364878\n",
       "min        0.000000\n",
       "25%        1.000000\n",
       "50%        1.000000\n",
       "75%        1.000000\n",
       "max        1.000000\n",
       "Name: Credit_History, dtype: float64"
      ]
     },
     "execution_count": 18,
     "metadata": {},
     "output_type": "execute_result"
    }
   ],
   "source": [
    "train.Credit_History.describe()"
   ]
  },
  {
   "cell_type": "raw",
   "metadata": {},
   "source": []
  },
  {
   "cell_type": "code",
   "execution_count": 19,
   "metadata": {},
   "outputs": [
    {
     "data": {
      "text/plain": [
       "count      601\n",
       "unique       2\n",
       "top       Male\n",
       "freq       489\n",
       "Name: Gender, dtype: object"
      ]
     },
     "execution_count": 19,
     "metadata": {},
     "output_type": "execute_result"
    }
   ],
   "source": [
    "train.Gender.describe()"
   ]
  },
  {
   "cell_type": "code",
   "execution_count": 20,
   "metadata": {},
   "outputs": [
    {
     "data": {
      "text/plain": [
       "count      601\n",
       "unique       2\n",
       "top       Male\n",
       "freq       489\n",
       "Name: Gender, dtype: object"
      ]
     },
     "execution_count": 20,
     "metadata": {},
     "output_type": "execute_result"
    }
   ],
   "source": [
    "train.Gender.describe()"
   ]
  },
  {
   "cell_type": "code",
   "execution_count": 45,
   "metadata": {},
   "outputs": [],
   "source": [
    "train.Gender.fillna(value= \"Male\", inplace = True)\n",
    "test.Gender.fillna(value= \"Male\", inplace = True)\n",
    "train.Married.fillna(value = \"Yes\", inplace = True)\n",
    "train.Dependents.fillna(value = 0, inplace = True)\n",
    "test.Dependents.fillna(value = 0 , inplace = True)\n",
    "train.Self_Employed.fillna(value = \"No\", inplace = True)\n",
    "test.Self_Employed.fillna(value = \"No\", inplace = True)\n",
    "train.LoanAmount.fillna(value = 120, inplace = True)\n",
    "test.LoanAmount.fillna(value = 120, inplace = True)\n",
    "train.Loan_Amount_Term.fillna(value = 360, inplace = True)\n",
    "test.Loan_Amount_Term.fillna(value = 360, inplace = True)\n",
    "train.Credit_History.fillna(value = 1, inplace = True)\n",
    "test.Credit_History.fillna(value = 1, inplace = True)\n",
    "\n",
    "\n"
   ]
  },
  {
   "cell_type": "markdown",
   "metadata": {},
   "source": [
    "# Some basic EDA"
   ]
  },
  {
   "cell_type": "code",
   "execution_count": 50,
   "metadata": {},
   "outputs": [
    {
     "data": {
      "text/html": [
       "<div>\n",
       "<style scoped>\n",
       "    .dataframe tbody tr th:only-of-type {\n",
       "        vertical-align: middle;\n",
       "    }\n",
       "\n",
       "    .dataframe tbody tr th {\n",
       "        vertical-align: top;\n",
       "    }\n",
       "\n",
       "    .dataframe thead th {\n",
       "        text-align: right;\n",
       "    }\n",
       "</style>\n",
       "<table border=\"1\" class=\"dataframe\">\n",
       "  <thead>\n",
       "    <tr style=\"text-align: right;\">\n",
       "      <th></th>\n",
       "      <th>ApplicantIncome</th>\n",
       "      <th>CoapplicantIncome</th>\n",
       "      <th>LoanAmount</th>\n",
       "      <th>Loan_Amount_Term</th>\n",
       "      <th>Credit_History</th>\n",
       "      <th>Loan_Status</th>\n",
       "    </tr>\n",
       "  </thead>\n",
       "  <tbody>\n",
       "    <tr>\n",
       "      <th>ApplicantIncome</th>\n",
       "      <td>1.000000</td>\n",
       "      <td>-0.116605</td>\n",
       "      <td>0.564698</td>\n",
       "      <td>-0.046531</td>\n",
       "      <td>-0.018615</td>\n",
       "      <td>-0.004710</td>\n",
       "    </tr>\n",
       "    <tr>\n",
       "      <th>CoapplicantIncome</th>\n",
       "      <td>-0.116605</td>\n",
       "      <td>1.000000</td>\n",
       "      <td>0.189723</td>\n",
       "      <td>-0.059383</td>\n",
       "      <td>0.011134</td>\n",
       "      <td>-0.059187</td>\n",
       "    </tr>\n",
       "    <tr>\n",
       "      <th>LoanAmount</th>\n",
       "      <td>0.564698</td>\n",
       "      <td>0.189723</td>\n",
       "      <td>1.000000</td>\n",
       "      <td>0.037152</td>\n",
       "      <td>-0.000250</td>\n",
       "      <td>-0.031808</td>\n",
       "    </tr>\n",
       "    <tr>\n",
       "      <th>Loan_Amount_Term</th>\n",
       "      <td>-0.046531</td>\n",
       "      <td>-0.059383</td>\n",
       "      <td>0.037152</td>\n",
       "      <td>1.000000</td>\n",
       "      <td>-0.004705</td>\n",
       "      <td>-0.022549</td>\n",
       "    </tr>\n",
       "    <tr>\n",
       "      <th>Credit_History</th>\n",
       "      <td>-0.018615</td>\n",
       "      <td>0.011134</td>\n",
       "      <td>-0.000250</td>\n",
       "      <td>-0.004705</td>\n",
       "      <td>1.000000</td>\n",
       "      <td>0.540556</td>\n",
       "    </tr>\n",
       "    <tr>\n",
       "      <th>Loan_Status</th>\n",
       "      <td>-0.004710</td>\n",
       "      <td>-0.059187</td>\n",
       "      <td>-0.031808</td>\n",
       "      <td>-0.022549</td>\n",
       "      <td>0.540556</td>\n",
       "      <td>1.000000</td>\n",
       "    </tr>\n",
       "  </tbody>\n",
       "</table>\n",
       "</div>"
      ],
      "text/plain": [
       "                   ApplicantIncome  CoapplicantIncome  LoanAmount  \\\n",
       "ApplicantIncome           1.000000          -0.116605    0.564698   \n",
       "CoapplicantIncome        -0.116605           1.000000    0.189723   \n",
       "LoanAmount                0.564698           0.189723    1.000000   \n",
       "Loan_Amount_Term         -0.046531          -0.059383    0.037152   \n",
       "Credit_History           -0.018615           0.011134   -0.000250   \n",
       "Loan_Status              -0.004710          -0.059187   -0.031808   \n",
       "\n",
       "                   Loan_Amount_Term  Credit_History  Loan_Status  \n",
       "ApplicantIncome           -0.046531       -0.018615    -0.004710  \n",
       "CoapplicantIncome         -0.059383        0.011134    -0.059187  \n",
       "LoanAmount                 0.037152       -0.000250    -0.031808  \n",
       "Loan_Amount_Term           1.000000       -0.004705    -0.022549  \n",
       "Credit_History            -0.004705        1.000000     0.540556  \n",
       "Loan_Status               -0.022549        0.540556     1.000000  "
      ]
     },
     "execution_count": 50,
     "metadata": {},
     "output_type": "execute_result"
    }
   ],
   "source": [
    "train.corr()"
   ]
  },
  {
   "cell_type": "markdown",
   "metadata": {},
   "source": [
    "# We need more columns in the analysis so that we can get a clearer picture on corelation in between columns so we will apply one hot encoding after dropping loan id column"
   ]
  },
  {
   "cell_type": "code",
   "execution_count": 49,
   "metadata": {},
   "outputs": [],
   "source": [
    "le=LabelEncoder()\n",
    "train[\"Loan_Status\"] = le.fit_transform(train.Loan_Status)"
   ]
  },
  {
   "cell_type": "code",
   "execution_count": 51,
   "metadata": {},
   "outputs": [],
   "source": [
    "newtrain = train.drop(\"Loan_ID\", axis = 1)\n",
    "newtest = test.drop(\"Loan_ID\", axis = 1)"
   ]
  },
  {
   "cell_type": "code",
   "execution_count": 52,
   "metadata": {},
   "outputs": [
    {
     "data": {
      "text/plain": [
       "(614, 12)"
      ]
     },
     "execution_count": 52,
     "metadata": {},
     "output_type": "execute_result"
    }
   ],
   "source": [
    "newtrain.shape"
   ]
  },
  {
   "cell_type": "code",
   "execution_count": 53,
   "metadata": {},
   "outputs": [
    {
     "data": {
      "text/plain": [
       "(367, 11)"
      ]
     },
     "execution_count": 53,
     "metadata": {},
     "output_type": "execute_result"
    }
   ],
   "source": [
    "newtest.shape"
   ]
  },
  {
   "cell_type": "code",
   "execution_count": 54,
   "metadata": {},
   "outputs": [],
   "source": []
  },
  {
   "cell_type": "code",
   "execution_count": 55,
   "metadata": {},
   "outputs": [
    {
     "data": {
      "text/plain": [
       "(614, 22)"
      ]
     },
     "execution_count": 55,
     "metadata": {},
     "output_type": "execute_result"
    }
   ],
   "source": [
    "ohe_train.shape"
   ]
  },
  {
   "cell_type": "code",
   "execution_count": 56,
   "metadata": {},
   "outputs": [
    {
     "data": {
      "text/plain": [
       "Index(['ApplicantIncome', 'CoapplicantIncome', 'LoanAmount',\n",
       "       'Loan_Amount_Term', 'Credit_History', 'Loan_Status', 'Gender_Female',\n",
       "       'Gender_Male', 'Married_No', 'Married_Yes', 'Dependents_0',\n",
       "       'Dependents_0', 'Dependents_1', 'Dependents_2', 'Dependents_3+',\n",
       "       'Education_Graduate', 'Education_Not Graduate', 'Self_Employed_No',\n",
       "       'Self_Employed_Yes', 'Property_Area_Rural', 'Property_Area_Semiurban',\n",
       "       'Property_Area_Urban'],\n",
       "      dtype='object')"
      ]
     },
     "execution_count": 56,
     "metadata": {},
     "output_type": "execute_result"
    }
   ],
   "source": [
    "ohe_train.columns"
   ]
  },
  {
   "cell_type": "code",
   "execution_count": 57,
   "metadata": {},
   "outputs": [
    {
     "data": {
      "text/plain": [
       "(367, 21)"
      ]
     },
     "execution_count": 57,
     "metadata": {},
     "output_type": "execute_result"
    }
   ],
   "source": [
    "ohe_test.shape"
   ]
  },
  {
   "cell_type": "code",
   "execution_count": 58,
   "metadata": {},
   "outputs": [
    {
     "data": {
      "text/plain": [
       "Index(['ApplicantIncome', 'CoapplicantIncome', 'LoanAmount',\n",
       "       'Loan_Amount_Term', 'Credit_History', 'Gender_Female', 'Gender_Male',\n",
       "       'Married_No', 'Married_Yes', 'Dependents_0', 'Dependents_0',\n",
       "       'Dependents_1', 'Dependents_2', 'Dependents_3+', 'Education_Graduate',\n",
       "       'Education_Not Graduate', 'Self_Employed_No', 'Self_Employed_Yes',\n",
       "       'Property_Area_Rural', 'Property_Area_Semiurban',\n",
       "       'Property_Area_Urban'],\n",
       "      dtype='object')"
      ]
     },
     "execution_count": 58,
     "metadata": {},
     "output_type": "execute_result"
    }
   ],
   "source": [
    "ohe_test.columns"
   ]
  },
  {
   "cell_type": "code",
   "execution_count": 59,
   "metadata": {},
   "outputs": [
    {
     "data": {
      "text/html": [
       "<div>\n",
       "<style scoped>\n",
       "    .dataframe tbody tr th:only-of-type {\n",
       "        vertical-align: middle;\n",
       "    }\n",
       "\n",
       "    .dataframe tbody tr th {\n",
       "        vertical-align: top;\n",
       "    }\n",
       "\n",
       "    .dataframe thead th {\n",
       "        text-align: right;\n",
       "    }\n",
       "</style>\n",
       "<table border=\"1\" class=\"dataframe\">\n",
       "  <thead>\n",
       "    <tr style=\"text-align: right;\">\n",
       "      <th></th>\n",
       "      <th>ApplicantIncome</th>\n",
       "      <th>CoapplicantIncome</th>\n",
       "      <th>LoanAmount</th>\n",
       "      <th>Loan_Amount_Term</th>\n",
       "      <th>Credit_History</th>\n",
       "      <th>Loan_Status</th>\n",
       "      <th>Gender_Female</th>\n",
       "      <th>Gender_Male</th>\n",
       "      <th>Married_No</th>\n",
       "      <th>Married_Yes</th>\n",
       "      <th>...</th>\n",
       "      <th>Dependents_1</th>\n",
       "      <th>Dependents_2</th>\n",
       "      <th>Dependents_3+</th>\n",
       "      <th>Education_Graduate</th>\n",
       "      <th>Education_Not Graduate</th>\n",
       "      <th>Self_Employed_No</th>\n",
       "      <th>Self_Employed_Yes</th>\n",
       "      <th>Property_Area_Rural</th>\n",
       "      <th>Property_Area_Semiurban</th>\n",
       "      <th>Property_Area_Urban</th>\n",
       "    </tr>\n",
       "  </thead>\n",
       "  <tbody>\n",
       "    <tr>\n",
       "      <th>ApplicantIncome</th>\n",
       "      <td>1.000000</td>\n",
       "      <td>-0.116605</td>\n",
       "      <td>0.564698</td>\n",
       "      <td>-0.046531</td>\n",
       "      <td>-0.018615</td>\n",
       "      <td>-0.004710</td>\n",
       "      <td>-0.058809</td>\n",
       "      <td>0.058809</td>\n",
       "      <td>-0.051708</td>\n",
       "      <td>0.051708</td>\n",
       "      <td>...</td>\n",
       "      <td>0.040861</td>\n",
       "      <td>-0.034650</td>\n",
       "      <td>0.156687</td>\n",
       "      <td>0.140760</td>\n",
       "      <td>-0.140760</td>\n",
       "      <td>-0.127180</td>\n",
       "      <td>0.127180</td>\n",
       "      <td>0.015829</td>\n",
       "      <td>-0.014246</td>\n",
       "      <td>-0.000598</td>\n",
       "    </tr>\n",
       "    <tr>\n",
       "      <th>CoapplicantIncome</th>\n",
       "      <td>-0.116605</td>\n",
       "      <td>1.000000</td>\n",
       "      <td>0.189723</td>\n",
       "      <td>-0.059383</td>\n",
       "      <td>0.011134</td>\n",
       "      <td>-0.059187</td>\n",
       "      <td>-0.082912</td>\n",
       "      <td>0.082912</td>\n",
       "      <td>-0.075948</td>\n",
       "      <td>0.075948</td>\n",
       "      <td>...</td>\n",
       "      <td>-0.029769</td>\n",
       "      <td>0.010016</td>\n",
       "      <td>0.041491</td>\n",
       "      <td>0.062290</td>\n",
       "      <td>-0.062290</td>\n",
       "      <td>0.016100</td>\n",
       "      <td>-0.016100</td>\n",
       "      <td>0.005329</td>\n",
       "      <td>-0.027044</td>\n",
       "      <td>0.022776</td>\n",
       "    </tr>\n",
       "    <tr>\n",
       "      <th>LoanAmount</th>\n",
       "      <td>0.564698</td>\n",
       "      <td>0.189723</td>\n",
       "      <td>1.000000</td>\n",
       "      <td>0.037152</td>\n",
       "      <td>-0.000250</td>\n",
       "      <td>-0.031808</td>\n",
       "      <td>-0.106404</td>\n",
       "      <td>0.106404</td>\n",
       "      <td>-0.146212</td>\n",
       "      <td>0.146212</td>\n",
       "      <td>...</td>\n",
       "      <td>0.061778</td>\n",
       "      <td>0.020367</td>\n",
       "      <td>0.152619</td>\n",
       "      <td>0.169436</td>\n",
       "      <td>-0.169436</td>\n",
       "      <td>-0.114971</td>\n",
       "      <td>0.114971</td>\n",
       "      <td>0.043570</td>\n",
       "      <td>-0.004730</td>\n",
       "      <td>-0.037259</td>\n",
       "    </tr>\n",
       "    <tr>\n",
       "      <th>Loan_Amount_Term</th>\n",
       "      <td>-0.046531</td>\n",
       "      <td>-0.059383</td>\n",
       "      <td>0.037152</td>\n",
       "      <td>1.000000</td>\n",
       "      <td>-0.004705</td>\n",
       "      <td>-0.022549</td>\n",
       "      <td>0.074030</td>\n",
       "      <td>-0.074030</td>\n",
       "      <td>0.100912</td>\n",
       "      <td>-0.100912</td>\n",
       "      <td>...</td>\n",
       "      <td>-0.088492</td>\n",
       "      <td>-0.010609</td>\n",
       "      <td>-0.077273</td>\n",
       "      <td>0.073928</td>\n",
       "      <td>-0.073928</td>\n",
       "      <td>0.033739</td>\n",
       "      <td>-0.033739</td>\n",
       "      <td>0.034321</td>\n",
       "      <td>0.059141</td>\n",
       "      <td>-0.094279</td>\n",
       "    </tr>\n",
       "    <tr>\n",
       "      <th>Credit_History</th>\n",
       "      <td>-0.018615</td>\n",
       "      <td>0.011134</td>\n",
       "      <td>-0.000250</td>\n",
       "      <td>-0.004705</td>\n",
       "      <td>1.000000</td>\n",
       "      <td>0.540556</td>\n",
       "      <td>-0.009170</td>\n",
       "      <td>0.009170</td>\n",
       "      <td>-0.010938</td>\n",
       "      <td>0.010938</td>\n",
       "      <td>...</td>\n",
       "      <td>0.009757</td>\n",
       "      <td>0.007987</td>\n",
       "      <td>-0.060473</td>\n",
       "      <td>0.073658</td>\n",
       "      <td>-0.073658</td>\n",
       "      <td>0.001550</td>\n",
       "      <td>-0.001550</td>\n",
       "      <td>-0.020906</td>\n",
       "      <td>0.035976</td>\n",
       "      <td>-0.016934</td>\n",
       "    </tr>\n",
       "    <tr>\n",
       "      <th>Loan_Status</th>\n",
       "      <td>-0.004710</td>\n",
       "      <td>-0.059187</td>\n",
       "      <td>-0.031808</td>\n",
       "      <td>-0.022549</td>\n",
       "      <td>0.540556</td>\n",
       "      <td>1.000000</td>\n",
       "      <td>-0.017987</td>\n",
       "      <td>0.017987</td>\n",
       "      <td>-0.091478</td>\n",
       "      <td>0.091478</td>\n",
       "      <td>...</td>\n",
       "      <td>-0.038740</td>\n",
       "      <td>0.062384</td>\n",
       "      <td>-0.026123</td>\n",
       "      <td>0.085884</td>\n",
       "      <td>-0.085884</td>\n",
       "      <td>0.003700</td>\n",
       "      <td>-0.003700</td>\n",
       "      <td>-0.100694</td>\n",
       "      <td>0.136540</td>\n",
       "      <td>-0.043621</td>\n",
       "    </tr>\n",
       "    <tr>\n",
       "      <th>Gender_Female</th>\n",
       "      <td>-0.058809</td>\n",
       "      <td>-0.082912</td>\n",
       "      <td>-0.106404</td>\n",
       "      <td>0.074030</td>\n",
       "      <td>-0.009170</td>\n",
       "      <td>-0.017987</td>\n",
       "      <td>1.000000</td>\n",
       "      <td>-1.000000</td>\n",
       "      <td>0.364569</td>\n",
       "      <td>-0.364569</td>\n",
       "      <td>...</td>\n",
       "      <td>0.004466</td>\n",
       "      <td>-0.129953</td>\n",
       "      <td>-0.096319</td>\n",
       "      <td>0.045364</td>\n",
       "      <td>-0.045364</td>\n",
       "      <td>-0.000525</td>\n",
       "      <td>0.000525</td>\n",
       "      <td>-0.080283</td>\n",
       "      <td>0.108623</td>\n",
       "      <td>-0.034530</td>\n",
       "    </tr>\n",
       "    <tr>\n",
       "      <th>Gender_Male</th>\n",
       "      <td>0.058809</td>\n",
       "      <td>0.082912</td>\n",
       "      <td>0.106404</td>\n",
       "      <td>-0.074030</td>\n",
       "      <td>0.009170</td>\n",
       "      <td>0.017987</td>\n",
       "      <td>-1.000000</td>\n",
       "      <td>1.000000</td>\n",
       "      <td>-0.364569</td>\n",
       "      <td>0.364569</td>\n",
       "      <td>...</td>\n",
       "      <td>-0.004466</td>\n",
       "      <td>0.129953</td>\n",
       "      <td>0.096319</td>\n",
       "      <td>-0.045364</td>\n",
       "      <td>0.045364</td>\n",
       "      <td>0.000525</td>\n",
       "      <td>-0.000525</td>\n",
       "      <td>0.080283</td>\n",
       "      <td>-0.108623</td>\n",
       "      <td>0.034530</td>\n",
       "    </tr>\n",
       "    <tr>\n",
       "      <th>Married_No</th>\n",
       "      <td>-0.051708</td>\n",
       "      <td>-0.075948</td>\n",
       "      <td>-0.146212</td>\n",
       "      <td>0.100912</td>\n",
       "      <td>-0.010938</td>\n",
       "      <td>-0.091478</td>\n",
       "      <td>0.364569</td>\n",
       "      <td>-0.364569</td>\n",
       "      <td>1.000000</td>\n",
       "      <td>-1.000000</td>\n",
       "      <td>...</td>\n",
       "      <td>-0.113853</td>\n",
       "      <td>-0.249547</td>\n",
       "      <td>-0.132566</td>\n",
       "      <td>0.012304</td>\n",
       "      <td>-0.012304</td>\n",
       "      <td>0.004489</td>\n",
       "      <td>-0.004489</td>\n",
       "      <td>0.006805</td>\n",
       "      <td>-0.005845</td>\n",
       "      <td>-0.000546</td>\n",
       "    </tr>\n",
       "    <tr>\n",
       "      <th>Married_Yes</th>\n",
       "      <td>0.051708</td>\n",
       "      <td>0.075948</td>\n",
       "      <td>0.146212</td>\n",
       "      <td>-0.100912</td>\n",
       "      <td>0.010938</td>\n",
       "      <td>0.091478</td>\n",
       "      <td>-0.364569</td>\n",
       "      <td>0.364569</td>\n",
       "      <td>-1.000000</td>\n",
       "      <td>1.000000</td>\n",
       "      <td>...</td>\n",
       "      <td>0.113853</td>\n",
       "      <td>0.249547</td>\n",
       "      <td>0.132566</td>\n",
       "      <td>-0.012304</td>\n",
       "      <td>0.012304</td>\n",
       "      <td>-0.004489</td>\n",
       "      <td>0.004489</td>\n",
       "      <td>-0.006805</td>\n",
       "      <td>0.005845</td>\n",
       "      <td>0.000546</td>\n",
       "    </tr>\n",
       "    <tr>\n",
       "      <th>Dependents_0</th>\n",
       "      <td>-0.005596</td>\n",
       "      <td>-0.029503</td>\n",
       "      <td>-0.034239</td>\n",
       "      <td>0.033405</td>\n",
       "      <td>-0.084677</td>\n",
       "      <td>-0.029798</td>\n",
       "      <td>0.007208</td>\n",
       "      <td>-0.007208</td>\n",
       "      <td>-0.026676</td>\n",
       "      <td>0.026676</td>\n",
       "      <td>...</td>\n",
       "      <td>-0.070631</td>\n",
       "      <td>-0.070216</td>\n",
       "      <td>-0.047628</td>\n",
       "      <td>-0.018553</td>\n",
       "      <td>0.018553</td>\n",
       "      <td>0.000101</td>\n",
       "      <td>-0.000101</td>\n",
       "      <td>-0.055084</td>\n",
       "      <td>0.006692</td>\n",
       "      <td>0.046370</td>\n",
       "    </tr>\n",
       "    <tr>\n",
       "      <th>Dependents_0</th>\n",
       "      <td>-0.090174</td>\n",
       "      <td>0.000949</td>\n",
       "      <td>-0.135799</td>\n",
       "      <td>0.106897</td>\n",
       "      <td>0.046697</td>\n",
       "      <td>0.006250</td>\n",
       "      <td>0.145082</td>\n",
       "      <td>-0.145082</td>\n",
       "      <td>0.353905</td>\n",
       "      <td>-0.353905</td>\n",
       "      <td>...</td>\n",
       "      <td>-0.505474</td>\n",
       "      <td>-0.502499</td>\n",
       "      <td>-0.340851</td>\n",
       "      <td>0.042065</td>\n",
       "      <td>-0.042065</td>\n",
       "      <td>0.087571</td>\n",
       "      <td>-0.087571</td>\n",
       "      <td>0.060830</td>\n",
       "      <td>-0.006225</td>\n",
       "      <td>-0.052410</td>\n",
       "    </tr>\n",
       "    <tr>\n",
       "      <th>Dependents_1</th>\n",
       "      <td>0.040861</td>\n",
       "      <td>-0.029769</td>\n",
       "      <td>0.061778</td>\n",
       "      <td>-0.088492</td>\n",
       "      <td>0.009757</td>\n",
       "      <td>-0.038740</td>\n",
       "      <td>0.004466</td>\n",
       "      <td>-0.004466</td>\n",
       "      <td>-0.113853</td>\n",
       "      <td>0.113853</td>\n",
       "      <td>...</td>\n",
       "      <td>1.000000</td>\n",
       "      <td>-0.198046</td>\n",
       "      <td>-0.134337</td>\n",
       "      <td>0.013355</td>\n",
       "      <td>-0.013355</td>\n",
       "      <td>-0.082044</td>\n",
       "      <td>0.082044</td>\n",
       "      <td>-0.084117</td>\n",
       "      <td>0.011661</td>\n",
       "      <td>0.069320</td>\n",
       "    </tr>\n",
       "    <tr>\n",
       "      <th>Dependents_2</th>\n",
       "      <td>-0.034650</td>\n",
       "      <td>0.010016</td>\n",
       "      <td>0.020367</td>\n",
       "      <td>-0.010609</td>\n",
       "      <td>0.007987</td>\n",
       "      <td>0.062384</td>\n",
       "      <td>-0.129953</td>\n",
       "      <td>0.129953</td>\n",
       "      <td>-0.249547</td>\n",
       "      <td>0.249547</td>\n",
       "      <td>...</td>\n",
       "      <td>-0.198046</td>\n",
       "      <td>1.000000</td>\n",
       "      <td>-0.133547</td>\n",
       "      <td>-0.020822</td>\n",
       "      <td>0.020822</td>\n",
       "      <td>-0.032434</td>\n",
       "      <td>0.032434</td>\n",
       "      <td>-0.004298</td>\n",
       "      <td>-0.012017</td>\n",
       "      <td>0.016569</td>\n",
       "    </tr>\n",
       "    <tr>\n",
       "      <th>Dependents_3+</th>\n",
       "      <td>0.156687</td>\n",
       "      <td>0.041491</td>\n",
       "      <td>0.152619</td>\n",
       "      <td>-0.077273</td>\n",
       "      <td>-0.060473</td>\n",
       "      <td>-0.026123</td>\n",
       "      <td>-0.096319</td>\n",
       "      <td>0.096319</td>\n",
       "      <td>-0.132566</td>\n",
       "      <td>0.132566</td>\n",
       "      <td>...</td>\n",
       "      <td>-0.134337</td>\n",
       "      <td>-0.133547</td>\n",
       "      <td>1.000000</td>\n",
       "      <td>-0.055288</td>\n",
       "      <td>0.055288</td>\n",
       "      <td>-0.003278</td>\n",
       "      <td>0.003278</td>\n",
       "      <td>0.040670</td>\n",
       "      <td>0.007863</td>\n",
       "      <td>-0.047460</td>\n",
       "    </tr>\n",
       "    <tr>\n",
       "      <th>Education_Graduate</th>\n",
       "      <td>0.140760</td>\n",
       "      <td>0.062290</td>\n",
       "      <td>0.169436</td>\n",
       "      <td>0.073928</td>\n",
       "      <td>0.073658</td>\n",
       "      <td>0.085884</td>\n",
       "      <td>0.045364</td>\n",
       "      <td>-0.045364</td>\n",
       "      <td>0.012304</td>\n",
       "      <td>-0.012304</td>\n",
       "      <td>...</td>\n",
       "      <td>0.013355</td>\n",
       "      <td>-0.020822</td>\n",
       "      <td>-0.055288</td>\n",
       "      <td>1.000000</td>\n",
       "      <td>-1.000000</td>\n",
       "      <td>-0.010383</td>\n",
       "      <td>0.010383</td>\n",
       "      <td>-0.077520</td>\n",
       "      <td>0.039410</td>\n",
       "      <td>0.034279</td>\n",
       "    </tr>\n",
       "    <tr>\n",
       "      <th>Education_Not Graduate</th>\n",
       "      <td>-0.140760</td>\n",
       "      <td>-0.062290</td>\n",
       "      <td>-0.169436</td>\n",
       "      <td>-0.073928</td>\n",
       "      <td>-0.073658</td>\n",
       "      <td>-0.085884</td>\n",
       "      <td>-0.045364</td>\n",
       "      <td>0.045364</td>\n",
       "      <td>-0.012304</td>\n",
       "      <td>0.012304</td>\n",
       "      <td>...</td>\n",
       "      <td>-0.013355</td>\n",
       "      <td>0.020822</td>\n",
       "      <td>0.055288</td>\n",
       "      <td>-1.000000</td>\n",
       "      <td>1.000000</td>\n",
       "      <td>0.010383</td>\n",
       "      <td>-0.010383</td>\n",
       "      <td>0.077520</td>\n",
       "      <td>-0.039410</td>\n",
       "      <td>-0.034279</td>\n",
       "    </tr>\n",
       "    <tr>\n",
       "      <th>Self_Employed_No</th>\n",
       "      <td>-0.127180</td>\n",
       "      <td>0.016100</td>\n",
       "      <td>-0.114971</td>\n",
       "      <td>0.033739</td>\n",
       "      <td>0.001550</td>\n",
       "      <td>0.003700</td>\n",
       "      <td>-0.000525</td>\n",
       "      <td>0.000525</td>\n",
       "      <td>0.004489</td>\n",
       "      <td>-0.004489</td>\n",
       "      <td>...</td>\n",
       "      <td>-0.082044</td>\n",
       "      <td>-0.032434</td>\n",
       "      <td>-0.003278</td>\n",
       "      <td>-0.010383</td>\n",
       "      <td>0.010383</td>\n",
       "      <td>1.000000</td>\n",
       "      <td>-1.000000</td>\n",
       "      <td>-0.022065</td>\n",
       "      <td>-0.008710</td>\n",
       "      <td>0.030338</td>\n",
       "    </tr>\n",
       "    <tr>\n",
       "      <th>Self_Employed_Yes</th>\n",
       "      <td>0.127180</td>\n",
       "      <td>-0.016100</td>\n",
       "      <td>0.114971</td>\n",
       "      <td>-0.033739</td>\n",
       "      <td>-0.001550</td>\n",
       "      <td>-0.003700</td>\n",
       "      <td>0.000525</td>\n",
       "      <td>-0.000525</td>\n",
       "      <td>-0.004489</td>\n",
       "      <td>0.004489</td>\n",
       "      <td>...</td>\n",
       "      <td>0.082044</td>\n",
       "      <td>0.032434</td>\n",
       "      <td>0.003278</td>\n",
       "      <td>0.010383</td>\n",
       "      <td>-0.010383</td>\n",
       "      <td>-1.000000</td>\n",
       "      <td>1.000000</td>\n",
       "      <td>0.022065</td>\n",
       "      <td>0.008710</td>\n",
       "      <td>-0.030338</td>\n",
       "    </tr>\n",
       "    <tr>\n",
       "      <th>Property_Area_Rural</th>\n",
       "      <td>0.015829</td>\n",
       "      <td>0.005329</td>\n",
       "      <td>0.043570</td>\n",
       "      <td>0.034321</td>\n",
       "      <td>-0.020906</td>\n",
       "      <td>-0.100694</td>\n",
       "      <td>-0.080283</td>\n",
       "      <td>0.080283</td>\n",
       "      <td>0.006805</td>\n",
       "      <td>-0.006805</td>\n",
       "      <td>...</td>\n",
       "      <td>-0.084117</td>\n",
       "      <td>-0.004298</td>\n",
       "      <td>0.040670</td>\n",
       "      <td>-0.077520</td>\n",
       "      <td>0.077520</td>\n",
       "      <td>-0.022065</td>\n",
       "      <td>0.022065</td>\n",
       "      <td>1.000000</td>\n",
       "      <td>-0.501646</td>\n",
       "      <td>-0.449168</td>\n",
       "    </tr>\n",
       "    <tr>\n",
       "      <th>Property_Area_Semiurban</th>\n",
       "      <td>-0.014246</td>\n",
       "      <td>-0.027044</td>\n",
       "      <td>-0.004730</td>\n",
       "      <td>0.059141</td>\n",
       "      <td>0.035976</td>\n",
       "      <td>0.136540</td>\n",
       "      <td>0.108623</td>\n",
       "      <td>-0.108623</td>\n",
       "      <td>-0.005845</td>\n",
       "      <td>0.005845</td>\n",
       "      <td>...</td>\n",
       "      <td>0.011661</td>\n",
       "      <td>-0.012017</td>\n",
       "      <td>0.007863</td>\n",
       "      <td>0.039410</td>\n",
       "      <td>-0.039410</td>\n",
       "      <td>-0.008710</td>\n",
       "      <td>0.008710</td>\n",
       "      <td>-0.501646</td>\n",
       "      <td>1.000000</td>\n",
       "      <td>-0.547574</td>\n",
       "    </tr>\n",
       "    <tr>\n",
       "      <th>Property_Area_Urban</th>\n",
       "      <td>-0.000598</td>\n",
       "      <td>0.022776</td>\n",
       "      <td>-0.037259</td>\n",
       "      <td>-0.094279</td>\n",
       "      <td>-0.016934</td>\n",
       "      <td>-0.043621</td>\n",
       "      <td>-0.034530</td>\n",
       "      <td>0.034530</td>\n",
       "      <td>-0.000546</td>\n",
       "      <td>0.000546</td>\n",
       "      <td>...</td>\n",
       "      <td>0.069320</td>\n",
       "      <td>0.016569</td>\n",
       "      <td>-0.047460</td>\n",
       "      <td>0.034279</td>\n",
       "      <td>-0.034279</td>\n",
       "      <td>0.030338</td>\n",
       "      <td>-0.030338</td>\n",
       "      <td>-0.449168</td>\n",
       "      <td>-0.547574</td>\n",
       "      <td>1.000000</td>\n",
       "    </tr>\n",
       "  </tbody>\n",
       "</table>\n",
       "<p>22 rows × 22 columns</p>\n",
       "</div>"
      ],
      "text/plain": [
       "                         ApplicantIncome  CoapplicantIncome  LoanAmount  \\\n",
       "ApplicantIncome                 1.000000          -0.116605    0.564698   \n",
       "CoapplicantIncome              -0.116605           1.000000    0.189723   \n",
       "LoanAmount                      0.564698           0.189723    1.000000   \n",
       "Loan_Amount_Term               -0.046531          -0.059383    0.037152   \n",
       "Credit_History                 -0.018615           0.011134   -0.000250   \n",
       "Loan_Status                    -0.004710          -0.059187   -0.031808   \n",
       "Gender_Female                  -0.058809          -0.082912   -0.106404   \n",
       "Gender_Male                     0.058809           0.082912    0.106404   \n",
       "Married_No                     -0.051708          -0.075948   -0.146212   \n",
       "Married_Yes                     0.051708           0.075948    0.146212   \n",
       "Dependents_0                   -0.005596          -0.029503   -0.034239   \n",
       "Dependents_0                   -0.090174           0.000949   -0.135799   \n",
       "Dependents_1                    0.040861          -0.029769    0.061778   \n",
       "Dependents_2                   -0.034650           0.010016    0.020367   \n",
       "Dependents_3+                   0.156687           0.041491    0.152619   \n",
       "Education_Graduate              0.140760           0.062290    0.169436   \n",
       "Education_Not Graduate         -0.140760          -0.062290   -0.169436   \n",
       "Self_Employed_No               -0.127180           0.016100   -0.114971   \n",
       "Self_Employed_Yes               0.127180          -0.016100    0.114971   \n",
       "Property_Area_Rural             0.015829           0.005329    0.043570   \n",
       "Property_Area_Semiurban        -0.014246          -0.027044   -0.004730   \n",
       "Property_Area_Urban            -0.000598           0.022776   -0.037259   \n",
       "\n",
       "                         Loan_Amount_Term  Credit_History  Loan_Status  \\\n",
       "ApplicantIncome                 -0.046531       -0.018615    -0.004710   \n",
       "CoapplicantIncome               -0.059383        0.011134    -0.059187   \n",
       "LoanAmount                       0.037152       -0.000250    -0.031808   \n",
       "Loan_Amount_Term                 1.000000       -0.004705    -0.022549   \n",
       "Credit_History                  -0.004705        1.000000     0.540556   \n",
       "Loan_Status                     -0.022549        0.540556     1.000000   \n",
       "Gender_Female                    0.074030       -0.009170    -0.017987   \n",
       "Gender_Male                     -0.074030        0.009170     0.017987   \n",
       "Married_No                       0.100912       -0.010938    -0.091478   \n",
       "Married_Yes                     -0.100912        0.010938     0.091478   \n",
       "Dependents_0                     0.033405       -0.084677    -0.029798   \n",
       "Dependents_0                     0.106897        0.046697     0.006250   \n",
       "Dependents_1                    -0.088492        0.009757    -0.038740   \n",
       "Dependents_2                    -0.010609        0.007987     0.062384   \n",
       "Dependents_3+                   -0.077273       -0.060473    -0.026123   \n",
       "Education_Graduate               0.073928        0.073658     0.085884   \n",
       "Education_Not Graduate          -0.073928       -0.073658    -0.085884   \n",
       "Self_Employed_No                 0.033739        0.001550     0.003700   \n",
       "Self_Employed_Yes               -0.033739       -0.001550    -0.003700   \n",
       "Property_Area_Rural              0.034321       -0.020906    -0.100694   \n",
       "Property_Area_Semiurban          0.059141        0.035976     0.136540   \n",
       "Property_Area_Urban             -0.094279       -0.016934    -0.043621   \n",
       "\n",
       "                         Gender_Female  Gender_Male  Married_No  Married_Yes  \\\n",
       "ApplicantIncome              -0.058809     0.058809   -0.051708     0.051708   \n",
       "CoapplicantIncome            -0.082912     0.082912   -0.075948     0.075948   \n",
       "LoanAmount                   -0.106404     0.106404   -0.146212     0.146212   \n",
       "Loan_Amount_Term              0.074030    -0.074030    0.100912    -0.100912   \n",
       "Credit_History               -0.009170     0.009170   -0.010938     0.010938   \n",
       "Loan_Status                  -0.017987     0.017987   -0.091478     0.091478   \n",
       "Gender_Female                 1.000000    -1.000000    0.364569    -0.364569   \n",
       "Gender_Male                  -1.000000     1.000000   -0.364569     0.364569   \n",
       "Married_No                    0.364569    -0.364569    1.000000    -1.000000   \n",
       "Married_Yes                  -0.364569     0.364569   -1.000000     1.000000   \n",
       "Dependents_0                  0.007208    -0.007208   -0.026676     0.026676   \n",
       "Dependents_0                  0.145082    -0.145082    0.353905    -0.353905   \n",
       "Dependents_1                  0.004466    -0.004466   -0.113853     0.113853   \n",
       "Dependents_2                 -0.129953     0.129953   -0.249547     0.249547   \n",
       "Dependents_3+                -0.096319     0.096319   -0.132566     0.132566   \n",
       "Education_Graduate            0.045364    -0.045364    0.012304    -0.012304   \n",
       "Education_Not Graduate       -0.045364     0.045364   -0.012304     0.012304   \n",
       "Self_Employed_No             -0.000525     0.000525    0.004489    -0.004489   \n",
       "Self_Employed_Yes             0.000525    -0.000525   -0.004489     0.004489   \n",
       "Property_Area_Rural          -0.080283     0.080283    0.006805    -0.006805   \n",
       "Property_Area_Semiurban       0.108623    -0.108623   -0.005845     0.005845   \n",
       "Property_Area_Urban          -0.034530     0.034530   -0.000546     0.000546   \n",
       "\n",
       "                                ...           Dependents_1  Dependents_2  \\\n",
       "ApplicantIncome                 ...               0.040861     -0.034650   \n",
       "CoapplicantIncome               ...              -0.029769      0.010016   \n",
       "LoanAmount                      ...               0.061778      0.020367   \n",
       "Loan_Amount_Term                ...              -0.088492     -0.010609   \n",
       "Credit_History                  ...               0.009757      0.007987   \n",
       "Loan_Status                     ...              -0.038740      0.062384   \n",
       "Gender_Female                   ...               0.004466     -0.129953   \n",
       "Gender_Male                     ...              -0.004466      0.129953   \n",
       "Married_No                      ...              -0.113853     -0.249547   \n",
       "Married_Yes                     ...               0.113853      0.249547   \n",
       "Dependents_0                    ...              -0.070631     -0.070216   \n",
       "Dependents_0                    ...              -0.505474     -0.502499   \n",
       "Dependents_1                    ...               1.000000     -0.198046   \n",
       "Dependents_2                    ...              -0.198046      1.000000   \n",
       "Dependents_3+                   ...              -0.134337     -0.133547   \n",
       "Education_Graduate              ...               0.013355     -0.020822   \n",
       "Education_Not Graduate          ...              -0.013355      0.020822   \n",
       "Self_Employed_No                ...              -0.082044     -0.032434   \n",
       "Self_Employed_Yes               ...               0.082044      0.032434   \n",
       "Property_Area_Rural             ...              -0.084117     -0.004298   \n",
       "Property_Area_Semiurban         ...               0.011661     -0.012017   \n",
       "Property_Area_Urban             ...               0.069320      0.016569   \n",
       "\n",
       "                         Dependents_3+  Education_Graduate  \\\n",
       "ApplicantIncome               0.156687            0.140760   \n",
       "CoapplicantIncome             0.041491            0.062290   \n",
       "LoanAmount                    0.152619            0.169436   \n",
       "Loan_Amount_Term             -0.077273            0.073928   \n",
       "Credit_History               -0.060473            0.073658   \n",
       "Loan_Status                  -0.026123            0.085884   \n",
       "Gender_Female                -0.096319            0.045364   \n",
       "Gender_Male                   0.096319           -0.045364   \n",
       "Married_No                   -0.132566            0.012304   \n",
       "Married_Yes                   0.132566           -0.012304   \n",
       "Dependents_0                 -0.047628           -0.018553   \n",
       "Dependents_0                 -0.340851            0.042065   \n",
       "Dependents_1                 -0.134337            0.013355   \n",
       "Dependents_2                 -0.133547           -0.020822   \n",
       "Dependents_3+                 1.000000           -0.055288   \n",
       "Education_Graduate           -0.055288            1.000000   \n",
       "Education_Not Graduate        0.055288           -1.000000   \n",
       "Self_Employed_No             -0.003278           -0.010383   \n",
       "Self_Employed_Yes             0.003278            0.010383   \n",
       "Property_Area_Rural           0.040670           -0.077520   \n",
       "Property_Area_Semiurban       0.007863            0.039410   \n",
       "Property_Area_Urban          -0.047460            0.034279   \n",
       "\n",
       "                         Education_Not Graduate  Self_Employed_No  \\\n",
       "ApplicantIncome                       -0.140760         -0.127180   \n",
       "CoapplicantIncome                     -0.062290          0.016100   \n",
       "LoanAmount                            -0.169436         -0.114971   \n",
       "Loan_Amount_Term                      -0.073928          0.033739   \n",
       "Credit_History                        -0.073658          0.001550   \n",
       "Loan_Status                           -0.085884          0.003700   \n",
       "Gender_Female                         -0.045364         -0.000525   \n",
       "Gender_Male                            0.045364          0.000525   \n",
       "Married_No                            -0.012304          0.004489   \n",
       "Married_Yes                            0.012304         -0.004489   \n",
       "Dependents_0                           0.018553          0.000101   \n",
       "Dependents_0                          -0.042065          0.087571   \n",
       "Dependents_1                          -0.013355         -0.082044   \n",
       "Dependents_2                           0.020822         -0.032434   \n",
       "Dependents_3+                          0.055288         -0.003278   \n",
       "Education_Graduate                    -1.000000         -0.010383   \n",
       "Education_Not Graduate                 1.000000          0.010383   \n",
       "Self_Employed_No                       0.010383          1.000000   \n",
       "Self_Employed_Yes                     -0.010383         -1.000000   \n",
       "Property_Area_Rural                    0.077520         -0.022065   \n",
       "Property_Area_Semiurban               -0.039410         -0.008710   \n",
       "Property_Area_Urban                   -0.034279          0.030338   \n",
       "\n",
       "                         Self_Employed_Yes  Property_Area_Rural  \\\n",
       "ApplicantIncome                   0.127180             0.015829   \n",
       "CoapplicantIncome                -0.016100             0.005329   \n",
       "LoanAmount                        0.114971             0.043570   \n",
       "Loan_Amount_Term                 -0.033739             0.034321   \n",
       "Credit_History                   -0.001550            -0.020906   \n",
       "Loan_Status                      -0.003700            -0.100694   \n",
       "Gender_Female                     0.000525            -0.080283   \n",
       "Gender_Male                      -0.000525             0.080283   \n",
       "Married_No                       -0.004489             0.006805   \n",
       "Married_Yes                       0.004489            -0.006805   \n",
       "Dependents_0                     -0.000101            -0.055084   \n",
       "Dependents_0                     -0.087571             0.060830   \n",
       "Dependents_1                      0.082044            -0.084117   \n",
       "Dependents_2                      0.032434            -0.004298   \n",
       "Dependents_3+                     0.003278             0.040670   \n",
       "Education_Graduate                0.010383            -0.077520   \n",
       "Education_Not Graduate           -0.010383             0.077520   \n",
       "Self_Employed_No                 -1.000000            -0.022065   \n",
       "Self_Employed_Yes                 1.000000             0.022065   \n",
       "Property_Area_Rural               0.022065             1.000000   \n",
       "Property_Area_Semiurban           0.008710            -0.501646   \n",
       "Property_Area_Urban              -0.030338            -0.449168   \n",
       "\n",
       "                         Property_Area_Semiurban  Property_Area_Urban  \n",
       "ApplicantIncome                        -0.014246            -0.000598  \n",
       "CoapplicantIncome                      -0.027044             0.022776  \n",
       "LoanAmount                             -0.004730            -0.037259  \n",
       "Loan_Amount_Term                        0.059141            -0.094279  \n",
       "Credit_History                          0.035976            -0.016934  \n",
       "Loan_Status                             0.136540            -0.043621  \n",
       "Gender_Female                           0.108623            -0.034530  \n",
       "Gender_Male                            -0.108623             0.034530  \n",
       "Married_No                             -0.005845            -0.000546  \n",
       "Married_Yes                             0.005845             0.000546  \n",
       "Dependents_0                            0.006692             0.046370  \n",
       "Dependents_0                           -0.006225            -0.052410  \n",
       "Dependents_1                            0.011661             0.069320  \n",
       "Dependents_2                           -0.012017             0.016569  \n",
       "Dependents_3+                           0.007863            -0.047460  \n",
       "Education_Graduate                      0.039410             0.034279  \n",
       "Education_Not Graduate                 -0.039410            -0.034279  \n",
       "Self_Employed_No                       -0.008710             0.030338  \n",
       "Self_Employed_Yes                       0.008710            -0.030338  \n",
       "Property_Area_Rural                    -0.501646            -0.449168  \n",
       "Property_Area_Semiurban                 1.000000            -0.547574  \n",
       "Property_Area_Urban                    -0.547574             1.000000  \n",
       "\n",
       "[22 rows x 22 columns]"
      ]
     },
     "execution_count": 59,
     "metadata": {},
     "output_type": "execute_result"
    }
   ],
   "source": [
    "ohe_train.corr()"
   ]
  },
  {
   "cell_type": "code",
   "execution_count": 60,
   "metadata": {},
   "outputs": [],
   "source": [
    "#applying Standard scaler\n",
    "sc = StandardScaler()"
   ]
  },
  {
   "cell_type": "code",
   "execution_count": 61,
   "metadata": {},
   "outputs": [
    {
     "name": "stderr",
     "output_type": "stream",
     "text": [
      "C:\\ProgramData\\Anaconda3\\lib\\site-packages\\sklearn\\preprocessing\\data.py:625: DataConversionWarning: Data with input dtype uint8, int64, float64 were all converted to float64 by StandardScaler.\n",
      "  return self.partial_fit(X, y)\n",
      "C:\\ProgramData\\Anaconda3\\lib\\site-packages\\sklearn\\base.py:462: DataConversionWarning: Data with input dtype uint8, int64, float64 were all converted to float64 by StandardScaler.\n",
      "  return self.fit(X, **fit_params).transform(X)\n",
      "C:\\ProgramData\\Anaconda3\\lib\\site-packages\\sklearn\\preprocessing\\data.py:625: DataConversionWarning: Data with input dtype uint8, int64, float64 were all converted to float64 by StandardScaler.\n",
      "  return self.partial_fit(X, y)\n",
      "C:\\ProgramData\\Anaconda3\\lib\\site-packages\\sklearn\\base.py:462: DataConversionWarning: Data with input dtype uint8, int64, float64 were all converted to float64 by StandardScaler.\n",
      "  return self.fit(X, **fit_params).transform(X)\n"
     ]
    }
   ],
   "source": [
    "scaled_train = pd.DataFrame(sc.fit_transform(ohe_train), \n",
    "                            columns=ohe_train.columns)\n",
    "\n",
    "scaled_test = pd.DataFrame(sc.fit_transform(ohe_test), \n",
    "                            columns=ohe_test.columns)\n",
    "\n"
   ]
  },
  {
   "cell_type": "code",
   "execution_count": 62,
   "metadata": {},
   "outputs": [
    {
     "data": {
      "text/plain": [
       "(614, 22)"
      ]
     },
     "execution_count": 62,
     "metadata": {},
     "output_type": "execute_result"
    }
   ],
   "source": [
    "scaled_train.shape"
   ]
  },
  {
   "cell_type": "code",
   "execution_count": 63,
   "metadata": {},
   "outputs": [
    {
     "data": {
      "text/plain": [
       "(367, 21)"
      ]
     },
     "execution_count": 63,
     "metadata": {},
     "output_type": "execute_result"
    }
   ],
   "source": [
    "scaled_test.shape"
   ]
  },
  {
   "cell_type": "code",
   "execution_count": 64,
   "metadata": {},
   "outputs": [],
   "source": [
    "#making a model\n",
    "#first imputing d tree\n",
    "\n",
    "d_tree = DecisionTreeClassifier(criterion = \"entropy\", max_depth = 3)\n"
   ]
  },
  {
   "cell_type": "code",
   "execution_count": 82,
   "metadata": {},
   "outputs": [],
   "source": [
    "x = pd.DataFrame(scaled_train.drop(\"Loan_Status\", axis = 1))\n",
    "y = train.Loan_Status"
   ]
  },
  {
   "cell_type": "code",
   "execution_count": 83,
   "metadata": {},
   "outputs": [
    {
     "data": {
      "text/plain": [
       "DecisionTreeClassifier(class_weight=None, criterion='entropy', max_depth=3,\n",
       "            max_features=None, max_leaf_nodes=None,\n",
       "            min_impurity_decrease=0.0, min_impurity_split=None,\n",
       "            min_samples_leaf=1, min_samples_split=2,\n",
       "            min_weight_fraction_leaf=0.0, presort=False, random_state=None,\n",
       "            splitter='best')"
      ]
     },
     "execution_count": 83,
     "metadata": {},
     "output_type": "execute_result"
    }
   ],
   "source": [
    "#Fitting on d - tree\n",
    "d_tree.fit(x,y)"
   ]
  },
  {
   "cell_type": "code",
   "execution_count": 84,
   "metadata": {},
   "outputs": [
    {
     "name": "stdout",
     "output_type": "stream",
     "text": [
      "[1 1 1 1 1 1 1 0 1 1 1 1 1 0 1 1 1 1 1 1 1 1 1 1 1 0 1 1 1 1 1 1 1 1 1 0 1\n",
      " 1 1 1 1 1 1 1 1 1 1 1 1 1 1 1 1 1 1 0 1 1 0 1 1 1 1 0 1 1 0 0 1 0 1 1 1 1\n",
      " 1 1 1 1 1 1 0 1 0 1 0 1 1 1 1 1 1 1 1 1 0 1 1 1 1 1 1 0 1 1 1 1 0 1 1 1 1\n",
      " 1 1 1 1 1 1 0 0 0 1 1 1 0 0 1 0 1 1 1 1 1 1 1 1 1 1 1 1 1 0 1 0 1 1 1 1 0\n",
      " 1 1 1 1 1 0 1 1 1 1 1 1 1 0 1 1 1 0 0 1 0 1 1 1 1 0 0 1 1 1 1 1 1 1 1 1 1\n",
      " 1 1 1 1 1 1 1 0 0 1 1 0 1 0 1 1 1 1 1 1 1 1 1 1 1 1 0 1 1 1 1 1 1 1 1 1 1\n",
      " 1 1 0 1 1 1 1 1 1 1 1 1 1 0 0 0 1 1 1 0 1 1 1 0 1 1 1 1 0 1 1 1 1 0 1 1 1\n",
      " 1 1 1 1 1 1 1 0 1 0 1 1 1 1 0 0 1 1 1 0 1 1 1 1 1 0 1 1 1 1 1 1 1 1 0 1 1\n",
      " 1 1 1 1 1 1 1 1 1 1 1 1 1 1 1 0 1 1 1 1 1 0 1 1 1 1 1 1 1 0 1 1 1 1 1 1 1\n",
      " 1 1 1 1 1 1 0 1 1 1 1 1 1 0 1 1 1 1 0 1 1 0 1 1 1 1 1 1 1 1 1 1 1 1]\n"
     ]
    }
   ],
   "source": [
    "predictions= d_tree.fit(x,y).predict(scaled_test)\n",
    "print(predictions)"
   ]
  },
  {
   "cell_type": "code",
   "execution_count": 68,
   "metadata": {},
   "outputs": [],
   "source": [
    "solution = pd.read_csv(\"C://Users//Rachit//Desktop//great learning - data science engineering//machine learning//competition//loan prediction//submission.csv\")"
   ]
  },
  {
   "cell_type": "code",
   "execution_count": 69,
   "metadata": {},
   "outputs": [
    {
     "data": {
      "text/html": [
       "<div>\n",
       "<style scoped>\n",
       "    .dataframe tbody tr th:only-of-type {\n",
       "        vertical-align: middle;\n",
       "    }\n",
       "\n",
       "    .dataframe tbody tr th {\n",
       "        vertical-align: top;\n",
       "    }\n",
       "\n",
       "    .dataframe thead th {\n",
       "        text-align: right;\n",
       "    }\n",
       "</style>\n",
       "<table border=\"1\" class=\"dataframe\">\n",
       "  <thead>\n",
       "    <tr style=\"text-align: right;\">\n",
       "      <th></th>\n",
       "      <th>Loan_ID</th>\n",
       "      <th>Loan_Status</th>\n",
       "    </tr>\n",
       "  </thead>\n",
       "  <tbody>\n",
       "    <tr>\n",
       "      <th>0</th>\n",
       "      <td>LP001015</td>\n",
       "      <td>0</td>\n",
       "    </tr>\n",
       "    <tr>\n",
       "      <th>1</th>\n",
       "      <td>LP001022</td>\n",
       "      <td>0</td>\n",
       "    </tr>\n",
       "    <tr>\n",
       "      <th>2</th>\n",
       "      <td>LP001031</td>\n",
       "      <td>0</td>\n",
       "    </tr>\n",
       "    <tr>\n",
       "      <th>3</th>\n",
       "      <td>LP001035</td>\n",
       "      <td>0</td>\n",
       "    </tr>\n",
       "    <tr>\n",
       "      <th>4</th>\n",
       "      <td>LP001051</td>\n",
       "      <td>0</td>\n",
       "    </tr>\n",
       "  </tbody>\n",
       "</table>\n",
       "</div>"
      ],
      "text/plain": [
       "    Loan_ID  Loan_Status\n",
       "0  LP001015            0\n",
       "1  LP001022            0\n",
       "2  LP001031            0\n",
       "3  LP001035            0\n",
       "4  LP001051            0"
      ]
     },
     "execution_count": 69,
     "metadata": {},
     "output_type": "execute_result"
    }
   ],
   "source": [
    "solution.head()"
   ]
  },
  {
   "cell_type": "code",
   "execution_count": 70,
   "metadata": {},
   "outputs": [],
   "source": [
    "loan_status = pd.DataFrame({\"Loan_ID\": solution.Loan_ID, \n",
    "                          \"Loan_Status\": predictions})"
   ]
  },
  {
   "cell_type": "code",
   "execution_count": 71,
   "metadata": {},
   "outputs": [],
   "source": [
    "loan_status.to_csv(\"loan_status.csv\", index = False)"
   ]
  },
  {
   "cell_type": "markdown",
   "metadata": {},
   "source": [
    "# Using Random forest"
   ]
  },
  {
   "cell_type": "code",
   "execution_count": 72,
   "metadata": {},
   "outputs": [
    {
     "name": "stderr",
     "output_type": "stream",
     "text": [
      "C:\\ProgramData\\Anaconda3\\lib\\site-packages\\sklearn\\ensemble\\forest.py:246: FutureWarning: The default value of n_estimators will change from 10 in version 0.20 to 100 in 0.22.\n",
      "  \"10 in version 0.20 to 100 in 0.22.\", FutureWarning)\n"
     ]
    }
   ],
   "source": [
    "rf=RandomForestClassifier()\n",
    "prediction2=rf.fit(x,y).predict(scaled_test)"
   ]
  },
  {
   "cell_type": "code",
   "execution_count": 73,
   "metadata": {},
   "outputs": [
    {
     "name": "stdout",
     "output_type": "stream",
     "text": [
      "[1 1 1 1 0 1 0 0 1 1 1 1 1 0 1 1 1 1 1 1 1 0 0 1 1 1 1 1 1 1 1 1 1 1 1 0 1\n",
      " 1 1 1 1 1 1 1 1 0 1 1 1 1 1 1 1 1 1 0 1 1 0 1 1 1 1 0 0 1 0 0 1 0 1 1 1 1\n",
      " 0 0 0 1 1 0 1 1 0 1 0 1 1 1 1 0 1 1 1 1 0 0 1 1 1 1 1 0 0 0 1 1 0 1 1 1 1\n",
      " 1 1 1 1 1 0 0 0 0 1 1 1 1 0 1 0 1 1 1 1 1 1 1 1 1 1 0 1 1 0 1 0 1 1 1 0 0\n",
      " 1 0 1 1 1 0 1 1 1 1 1 0 0 0 0 1 0 0 0 1 0 0 1 1 1 0 0 1 1 1 1 1 1 1 0 1 1\n",
      " 1 1 1 0 1 1 1 0 0 1 1 0 1 0 1 0 1 1 1 1 1 1 1 1 1 0 0 1 1 1 1 1 0 1 1 1 1\n",
      " 1 1 0 1 1 1 1 0 1 1 1 0 1 0 0 0 1 0 1 0 1 0 1 0 1 1 0 1 0 1 1 1 1 0 0 1 1\n",
      " 0 1 1 1 1 0 1 0 0 0 1 1 0 0 0 0 1 1 0 0 0 1 1 1 0 1 1 1 0 1 1 1 1 0 0 0 1\n",
      " 1 1 1 0 1 0 1 1 1 1 1 1 1 1 1 1 1 1 1 1 0 0 0 1 0 0 1 1 1 0 1 1 1 1 1 1 1\n",
      " 1 1 0 0 1 1 0 1 1 0 0 1 1 0 1 1 1 1 0 1 1 0 1 0 1 0 1 1 1 1 1 1 0 1]\n"
     ]
    }
   ],
   "source": [
    "print(prediction2)"
   ]
  },
  {
   "cell_type": "code",
   "execution_count": 74,
   "metadata": {},
   "outputs": [
    {
     "data": {
      "text/html": [
       "<div>\n",
       "<style scoped>\n",
       "    .dataframe tbody tr th:only-of-type {\n",
       "        vertical-align: middle;\n",
       "    }\n",
       "\n",
       "    .dataframe tbody tr th {\n",
       "        vertical-align: top;\n",
       "    }\n",
       "\n",
       "    .dataframe thead th {\n",
       "        text-align: right;\n",
       "    }\n",
       "</style>\n",
       "<table border=\"1\" class=\"dataframe\">\n",
       "  <thead>\n",
       "    <tr style=\"text-align: right;\">\n",
       "      <th></th>\n",
       "      <th>Loan_ID</th>\n",
       "      <th>Loan_Status</th>\n",
       "    </tr>\n",
       "  </thead>\n",
       "  <tbody>\n",
       "    <tr>\n",
       "      <th>0</th>\n",
       "      <td>LP001015</td>\n",
       "      <td>0</td>\n",
       "    </tr>\n",
       "    <tr>\n",
       "      <th>1</th>\n",
       "      <td>LP001022</td>\n",
       "      <td>0</td>\n",
       "    </tr>\n",
       "    <tr>\n",
       "      <th>2</th>\n",
       "      <td>LP001031</td>\n",
       "      <td>0</td>\n",
       "    </tr>\n",
       "    <tr>\n",
       "      <th>3</th>\n",
       "      <td>LP001035</td>\n",
       "      <td>0</td>\n",
       "    </tr>\n",
       "    <tr>\n",
       "      <th>4</th>\n",
       "      <td>LP001051</td>\n",
       "      <td>0</td>\n",
       "    </tr>\n",
       "  </tbody>\n",
       "</table>\n",
       "</div>"
      ],
      "text/plain": [
       "    Loan_ID  Loan_Status\n",
       "0  LP001015            0\n",
       "1  LP001022            0\n",
       "2  LP001031            0\n",
       "3  LP001035            0\n",
       "4  LP001051            0"
      ]
     },
     "execution_count": 74,
     "metadata": {},
     "output_type": "execute_result"
    }
   ],
   "source": [
    "solution.head()"
   ]
  },
  {
   "cell_type": "code",
   "execution_count": 75,
   "metadata": {},
   "outputs": [],
   "source": [
    "loan_status2 = pd.DataFrame({\"Loan_ID\": solution.Loan_ID, \n",
    "                          \"Loan_Status\": prediction2})"
   ]
  },
  {
   "cell_type": "code",
   "execution_count": 76,
   "metadata": {},
   "outputs": [],
   "source": [
    "loan_status2.to_csv(\"loan_status2.csv\", index = False)"
   ]
  },
  {
   "cell_type": "code",
   "execution_count": 77,
   "metadata": {},
   "outputs": [
    {
     "name": "stdout",
     "output_type": "stream",
     "text": [
      "C:\\Users\\Rachit\n"
     ]
    }
   ],
   "source": [
    "cd"
   ]
  }
 ],
 "metadata": {
  "kernelspec": {
   "display_name": "Python 3",
   "language": "python",
   "name": "python3"
  },
  "language_info": {
   "codemirror_mode": {
    "name": "ipython",
    "version": 3
   },
   "file_extension": ".py",
   "mimetype": "text/x-python",
   "name": "python",
   "nbconvert_exporter": "python",
   "pygments_lexer": "ipython3",
   "version": "3.7.3"
  }
 },
 "nbformat": 4,
 "nbformat_minor": 2
}
